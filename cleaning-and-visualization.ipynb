{
 "cells": [
  {
   "cell_type": "code",
   "execution_count": 2,
   "metadata": {},
   "outputs": [],
   "source": [
    "# Import standard packages\n",
    "import pandas as pd\n",
    "import numpy as np\n",
    "import matplotlib.pyplot as plt\n",
    "import seaborn as sns\n",
    "import sqlite3\n",
    "\n",
    "%matplotlib inline"
   ]
  },
  {
   "cell_type": "code",
   "execution_count": 3,
   "metadata": {},
   "outputs": [],
   "source": [
    "# Here you run your code to explore the data\n",
    "conn = sqlite3.connect('data\\movies.db')\n",
    "cur = conn.cursor()"
   ]
  },
  {
   "cell_type": "code",
   "execution_count": 4,
   "metadata": {},
   "outputs": [
    {
     "data": {
      "text/html": [
       "<div>\n",
       "<style scoped>\n",
       "    .dataframe tbody tr th:only-of-type {\n",
       "        vertical-align: middle;\n",
       "    }\n",
       "\n",
       "    .dataframe tbody tr th {\n",
       "        vertical-align: top;\n",
       "    }\n",
       "\n",
       "    .dataframe thead th {\n",
       "        text-align: right;\n",
       "    }\n",
       "</style>\n",
       "<table border=\"1\" class=\"dataframe\">\n",
       "  <thead>\n",
       "    <tr style=\"text-align: right;\">\n",
       "      <th></th>\n",
       "      <th>idx</th>\n",
       "      <th>title</th>\n",
       "      <th>studio</th>\n",
       "      <th>domestic_gross</th>\n",
       "      <th>foreign_gross</th>\n",
       "      <th>year</th>\n",
       "    </tr>\n",
       "  </thead>\n",
       "  <tbody>\n",
       "    <tr>\n",
       "      <th>0</th>\n",
       "      <td>0</td>\n",
       "      <td>Toy Story 3</td>\n",
       "      <td>BV</td>\n",
       "      <td>415000000.0</td>\n",
       "      <td>652000000</td>\n",
       "      <td>2010</td>\n",
       "    </tr>\n",
       "    <tr>\n",
       "      <th>1</th>\n",
       "      <td>1</td>\n",
       "      <td>Alice in Wonderland (2010)</td>\n",
       "      <td>BV</td>\n",
       "      <td>334200000.0</td>\n",
       "      <td>691300000</td>\n",
       "      <td>2010</td>\n",
       "    </tr>\n",
       "    <tr>\n",
       "      <th>2</th>\n",
       "      <td>2</td>\n",
       "      <td>Harry Potter and the Deathly Hallows Part 1</td>\n",
       "      <td>WB</td>\n",
       "      <td>296000000.0</td>\n",
       "      <td>664300000</td>\n",
       "      <td>2010</td>\n",
       "    </tr>\n",
       "    <tr>\n",
       "      <th>3</th>\n",
       "      <td>3</td>\n",
       "      <td>Inception</td>\n",
       "      <td>WB</td>\n",
       "      <td>292600000.0</td>\n",
       "      <td>535700000</td>\n",
       "      <td>2010</td>\n",
       "    </tr>\n",
       "    <tr>\n",
       "      <th>4</th>\n",
       "      <td>4</td>\n",
       "      <td>Shrek Forever After</td>\n",
       "      <td>P/DW</td>\n",
       "      <td>238700000.0</td>\n",
       "      <td>513900000</td>\n",
       "      <td>2010</td>\n",
       "    </tr>\n",
       "    <tr>\n",
       "      <th>...</th>\n",
       "      <td>...</td>\n",
       "      <td>...</td>\n",
       "      <td>...</td>\n",
       "      <td>...</td>\n",
       "      <td>...</td>\n",
       "      <td>...</td>\n",
       "    </tr>\n",
       "    <tr>\n",
       "      <th>3382</th>\n",
       "      <td>3382</td>\n",
       "      <td>The Quake</td>\n",
       "      <td>Magn.</td>\n",
       "      <td>6200.0</td>\n",
       "      <td>None</td>\n",
       "      <td>2018</td>\n",
       "    </tr>\n",
       "    <tr>\n",
       "      <th>3383</th>\n",
       "      <td>3383</td>\n",
       "      <td>Edward II (2018 re-release)</td>\n",
       "      <td>FM</td>\n",
       "      <td>4800.0</td>\n",
       "      <td>None</td>\n",
       "      <td>2018</td>\n",
       "    </tr>\n",
       "    <tr>\n",
       "      <th>3384</th>\n",
       "      <td>3384</td>\n",
       "      <td>El Pacto</td>\n",
       "      <td>Sony</td>\n",
       "      <td>2500.0</td>\n",
       "      <td>None</td>\n",
       "      <td>2018</td>\n",
       "    </tr>\n",
       "    <tr>\n",
       "      <th>3385</th>\n",
       "      <td>3385</td>\n",
       "      <td>The Swan</td>\n",
       "      <td>Synergetic</td>\n",
       "      <td>2400.0</td>\n",
       "      <td>None</td>\n",
       "      <td>2018</td>\n",
       "    </tr>\n",
       "    <tr>\n",
       "      <th>3386</th>\n",
       "      <td>3386</td>\n",
       "      <td>An Actor Prepares</td>\n",
       "      <td>Grav.</td>\n",
       "      <td>1700.0</td>\n",
       "      <td>None</td>\n",
       "      <td>2018</td>\n",
       "    </tr>\n",
       "  </tbody>\n",
       "</table>\n",
       "<p>3387 rows × 6 columns</p>\n",
       "</div>"
      ],
      "text/plain": [
       "       idx                                        title      studio  \\\n",
       "0        0                                  Toy Story 3          BV   \n",
       "1        1                   Alice in Wonderland (2010)          BV   \n",
       "2        2  Harry Potter and the Deathly Hallows Part 1          WB   \n",
       "3        3                                    Inception          WB   \n",
       "4        4                          Shrek Forever After        P/DW   \n",
       "...    ...                                          ...         ...   \n",
       "3382  3382                                    The Quake       Magn.   \n",
       "3383  3383                  Edward II (2018 re-release)          FM   \n",
       "3384  3384                                     El Pacto        Sony   \n",
       "3385  3385                                     The Swan  Synergetic   \n",
       "3386  3386                            An Actor Prepares       Grav.   \n",
       "\n",
       "      domestic_gross foreign_gross  year  \n",
       "0        415000000.0     652000000  2010  \n",
       "1        334200000.0     691300000  2010  \n",
       "2        296000000.0     664300000  2010  \n",
       "3        292600000.0     535700000  2010  \n",
       "4        238700000.0     513900000  2010  \n",
       "...              ...           ...   ...  \n",
       "3382          6200.0          None  2018  \n",
       "3383          4800.0          None  2018  \n",
       "3384          2500.0          None  2018  \n",
       "3385          2400.0          None  2018  \n",
       "3386          1700.0          None  2018  \n",
       "\n",
       "[3387 rows x 6 columns]"
      ]
     },
     "execution_count": 4,
     "metadata": {},
     "output_type": "execute_result"
    }
   ],
   "source": [
    "cur.execute(\"\"\"SELECT * \n",
    "               FROM bom_movie_gross;\"\"\")\n",
    "df = pd.DataFrame(cur.fetchall())\n",
    "df.columns = [x[0] for x in cur.description]\n",
    "df"
   ]
  },
  {
   "cell_type": "markdown",
   "metadata": {},
   "source": [
    "## Data Preparation\n",
    "\n",
    "Describe and justify the process for preparing the data for analysis.\n",
    "\n",
    "***\n",
    "Questions to consider:\n",
    "* Were there variables you dropped or created?\n",
    "* How did you address missing values or outliers?\n",
    "* Why are these choices appropriate given the data and the business problem?\n",
    "***"
   ]
  },
  {
   "cell_type": "code",
   "execution_count": 4,
   "metadata": {},
   "outputs": [],
   "source": [
    "# Here you run your code to clean the data"
   ]
  },
  {
   "cell_type": "markdown",
   "metadata": {},
   "source": [
    "First joining `bom_movie_gross` with `imdb_movie_basics`"
   ]
  },
  {
   "cell_type": "code",
   "execution_count": 5,
   "metadata": {},
   "outputs": [
    {
     "data": {
      "text/html": [
       "<div>\n",
       "<style scoped>\n",
       "    .dataframe tbody tr th:only-of-type {\n",
       "        vertical-align: middle;\n",
       "    }\n",
       "\n",
       "    .dataframe tbody tr th {\n",
       "        vertical-align: top;\n",
       "    }\n",
       "\n",
       "    .dataframe thead th {\n",
       "        text-align: right;\n",
       "    }\n",
       "</style>\n",
       "<table border=\"1\" class=\"dataframe\">\n",
       "  <thead>\n",
       "    <tr style=\"text-align: right;\">\n",
       "      <th></th>\n",
       "      <th>movie</th>\n",
       "      <th>domestic_gross</th>\n",
       "      <th>foreign_gross</th>\n",
       "      <th>genres</th>\n",
       "    </tr>\n",
       "  </thead>\n",
       "  <tbody>\n",
       "    <tr>\n",
       "      <th>0</th>\n",
       "      <td>'71</td>\n",
       "      <td>1300000.0</td>\n",
       "      <td>355000</td>\n",
       "      <td>Action,Drama,Thriller</td>\n",
       "    </tr>\n",
       "    <tr>\n",
       "      <th>1</th>\n",
       "      <td>1,000 Times Good Night</td>\n",
       "      <td>53900.0</td>\n",
       "      <td>None</td>\n",
       "      <td>Drama,War</td>\n",
       "    </tr>\n",
       "    <tr>\n",
       "      <th>2</th>\n",
       "      <td>10 Cloverfield Lane</td>\n",
       "      <td>72100000.0</td>\n",
       "      <td>38100000</td>\n",
       "      <td>Drama,Horror,Mystery</td>\n",
       "    </tr>\n",
       "    <tr>\n",
       "      <th>3</th>\n",
       "      <td>10 Years</td>\n",
       "      <td>203000.0</td>\n",
       "      <td>None</td>\n",
       "      <td>Comedy,Drama,Romance</td>\n",
       "    </tr>\n",
       "    <tr>\n",
       "      <th>4</th>\n",
       "      <td>1001 Grams</td>\n",
       "      <td>11000.0</td>\n",
       "      <td>None</td>\n",
       "      <td>Drama</td>\n",
       "    </tr>\n",
       "    <tr>\n",
       "      <th>...</th>\n",
       "      <td>...</td>\n",
       "      <td>...</td>\n",
       "      <td>...</td>\n",
       "      <td>...</td>\n",
       "    </tr>\n",
       "    <tr>\n",
       "      <th>2600</th>\n",
       "      <td>Zindagi Na Milegi Dobara</td>\n",
       "      <td>3100000.0</td>\n",
       "      <td>None</td>\n",
       "      <td>Comedy,Drama</td>\n",
       "    </tr>\n",
       "    <tr>\n",
       "      <th>2601</th>\n",
       "      <td>Zombeavers</td>\n",
       "      <td>14900.0</td>\n",
       "      <td>None</td>\n",
       "      <td>Action,Adventure,Comedy</td>\n",
       "    </tr>\n",
       "    <tr>\n",
       "      <th>2602</th>\n",
       "      <td>Zookeeper</td>\n",
       "      <td>80400000.0</td>\n",
       "      <td>89500000</td>\n",
       "      <td>Comedy,Family,Romance</td>\n",
       "    </tr>\n",
       "    <tr>\n",
       "      <th>2603</th>\n",
       "      <td>Zoolander 2</td>\n",
       "      <td>28800000.0</td>\n",
       "      <td>27900000</td>\n",
       "      <td>Comedy</td>\n",
       "    </tr>\n",
       "    <tr>\n",
       "      <th>2604</th>\n",
       "      <td>Zootopia</td>\n",
       "      <td>341300000.0</td>\n",
       "      <td>682500000</td>\n",
       "      <td>Adventure,Animation,Comedy</td>\n",
       "    </tr>\n",
       "  </tbody>\n",
       "</table>\n",
       "<p>2605 rows × 4 columns</p>\n",
       "</div>"
      ],
      "text/plain": [
       "                         movie  domestic_gross foreign_gross  \\\n",
       "0                          '71       1300000.0        355000   \n",
       "1       1,000 Times Good Night         53900.0          None   \n",
       "2          10 Cloverfield Lane      72100000.0      38100000   \n",
       "3                     10 Years        203000.0          None   \n",
       "4                   1001 Grams         11000.0          None   \n",
       "...                        ...             ...           ...   \n",
       "2600  Zindagi Na Milegi Dobara       3100000.0          None   \n",
       "2601                Zombeavers         14900.0          None   \n",
       "2602                 Zookeeper      80400000.0      89500000   \n",
       "2603               Zoolander 2      28800000.0      27900000   \n",
       "2604                  Zootopia     341300000.0     682500000   \n",
       "\n",
       "                          genres  \n",
       "0          Action,Drama,Thriller  \n",
       "1                      Drama,War  \n",
       "2           Drama,Horror,Mystery  \n",
       "3           Comedy,Drama,Romance  \n",
       "4                          Drama  \n",
       "...                          ...  \n",
       "2600                Comedy,Drama  \n",
       "2601     Action,Adventure,Comedy  \n",
       "2602       Comedy,Family,Romance  \n",
       "2603                      Comedy  \n",
       "2604  Adventure,Animation,Comedy  \n",
       "\n",
       "[2605 rows x 4 columns]"
      ]
     },
     "execution_count": 5,
     "metadata": {},
     "output_type": "execute_result"
    }
   ],
   "source": [
    "cur.execute(\"\"\"SELECT b.title AS movie, b.domestic_gross, b.foreign_gross, m.genres \n",
    "               FROM bom_movie_gross b\n",
    "               JOIN imdb_title_basics m\n",
    "               ON b.title = m.primary_title\n",
    "               GROUP BY movie;\"\"\")\n",
    "gross_df = pd.DataFrame(cur.fetchall())\n",
    "gross_df.columns = [x[0] for x in cur.description]\n",
    "gross_df"
   ]
  },
  {
   "cell_type": "markdown",
   "metadata": {},
   "source": [
    "Converting `foreign_gross` into integer type"
   ]
  },
  {
   "cell_type": "markdown",
   "metadata": {},
   "source": [
    "Splitting movies by genre"
   ]
  },
  {
   "cell_type": "code",
   "execution_count": 6,
   "metadata": {},
   "outputs": [
    {
     "data": {
      "text/html": [
       "<div>\n",
       "<style scoped>\n",
       "    .dataframe tbody tr th:only-of-type {\n",
       "        vertical-align: middle;\n",
       "    }\n",
       "\n",
       "    .dataframe tbody tr th {\n",
       "        vertical-align: top;\n",
       "    }\n",
       "\n",
       "    .dataframe thead th {\n",
       "        text-align: right;\n",
       "    }\n",
       "</style>\n",
       "<table border=\"1\" class=\"dataframe\">\n",
       "  <thead>\n",
       "    <tr style=\"text-align: right;\">\n",
       "      <th></th>\n",
       "      <th>movie</th>\n",
       "      <th>domestic_gross</th>\n",
       "      <th>foreign_gross</th>\n",
       "      <th>genres</th>\n",
       "      <th>split_genres</th>\n",
       "    </tr>\n",
       "  </thead>\n",
       "  <tbody>\n",
       "    <tr>\n",
       "      <th>0</th>\n",
       "      <td>'71</td>\n",
       "      <td>1300000.0</td>\n",
       "      <td>355000</td>\n",
       "      <td>Action,Drama,Thriller</td>\n",
       "      <td>[Action, Drama, Thriller]</td>\n",
       "    </tr>\n",
       "    <tr>\n",
       "      <th>1</th>\n",
       "      <td>1,000 Times Good Night</td>\n",
       "      <td>53900.0</td>\n",
       "      <td>None</td>\n",
       "      <td>Drama,War</td>\n",
       "      <td>[Drama, War]</td>\n",
       "    </tr>\n",
       "    <tr>\n",
       "      <th>2</th>\n",
       "      <td>10 Cloverfield Lane</td>\n",
       "      <td>72100000.0</td>\n",
       "      <td>38100000</td>\n",
       "      <td>Drama,Horror,Mystery</td>\n",
       "      <td>[Drama, Horror, Mystery]</td>\n",
       "    </tr>\n",
       "    <tr>\n",
       "      <th>3</th>\n",
       "      <td>10 Years</td>\n",
       "      <td>203000.0</td>\n",
       "      <td>None</td>\n",
       "      <td>Comedy,Drama,Romance</td>\n",
       "      <td>[Comedy, Drama, Romance]</td>\n",
       "    </tr>\n",
       "    <tr>\n",
       "      <th>4</th>\n",
       "      <td>1001 Grams</td>\n",
       "      <td>11000.0</td>\n",
       "      <td>None</td>\n",
       "      <td>Drama</td>\n",
       "      <td>[Drama]</td>\n",
       "    </tr>\n",
       "    <tr>\n",
       "      <th>...</th>\n",
       "      <td>...</td>\n",
       "      <td>...</td>\n",
       "      <td>...</td>\n",
       "      <td>...</td>\n",
       "      <td>...</td>\n",
       "    </tr>\n",
       "    <tr>\n",
       "      <th>2600</th>\n",
       "      <td>Zindagi Na Milegi Dobara</td>\n",
       "      <td>3100000.0</td>\n",
       "      <td>None</td>\n",
       "      <td>Comedy,Drama</td>\n",
       "      <td>[Comedy, Drama]</td>\n",
       "    </tr>\n",
       "    <tr>\n",
       "      <th>2601</th>\n",
       "      <td>Zombeavers</td>\n",
       "      <td>14900.0</td>\n",
       "      <td>None</td>\n",
       "      <td>Action,Adventure,Comedy</td>\n",
       "      <td>[Action, Adventure, Comedy]</td>\n",
       "    </tr>\n",
       "    <tr>\n",
       "      <th>2602</th>\n",
       "      <td>Zookeeper</td>\n",
       "      <td>80400000.0</td>\n",
       "      <td>89500000</td>\n",
       "      <td>Comedy,Family,Romance</td>\n",
       "      <td>[Comedy, Family, Romance]</td>\n",
       "    </tr>\n",
       "    <tr>\n",
       "      <th>2603</th>\n",
       "      <td>Zoolander 2</td>\n",
       "      <td>28800000.0</td>\n",
       "      <td>27900000</td>\n",
       "      <td>Comedy</td>\n",
       "      <td>[Comedy]</td>\n",
       "    </tr>\n",
       "    <tr>\n",
       "      <th>2604</th>\n",
       "      <td>Zootopia</td>\n",
       "      <td>341300000.0</td>\n",
       "      <td>682500000</td>\n",
       "      <td>Adventure,Animation,Comedy</td>\n",
       "      <td>[Adventure, Animation, Comedy]</td>\n",
       "    </tr>\n",
       "  </tbody>\n",
       "</table>\n",
       "<p>2568 rows × 5 columns</p>\n",
       "</div>"
      ],
      "text/plain": [
       "                         movie  domestic_gross foreign_gross  \\\n",
       "0                          '71       1300000.0        355000   \n",
       "1       1,000 Times Good Night         53900.0          None   \n",
       "2          10 Cloverfield Lane      72100000.0      38100000   \n",
       "3                     10 Years        203000.0          None   \n",
       "4                   1001 Grams         11000.0          None   \n",
       "...                        ...             ...           ...   \n",
       "2600  Zindagi Na Milegi Dobara       3100000.0          None   \n",
       "2601                Zombeavers         14900.0          None   \n",
       "2602                 Zookeeper      80400000.0      89500000   \n",
       "2603               Zoolander 2      28800000.0      27900000   \n",
       "2604                  Zootopia     341300000.0     682500000   \n",
       "\n",
       "                          genres                    split_genres  \n",
       "0          Action,Drama,Thriller       [Action, Drama, Thriller]  \n",
       "1                      Drama,War                    [Drama, War]  \n",
       "2           Drama,Horror,Mystery        [Drama, Horror, Mystery]  \n",
       "3           Comedy,Drama,Romance        [Comedy, Drama, Romance]  \n",
       "4                          Drama                         [Drama]  \n",
       "...                          ...                             ...  \n",
       "2600                Comedy,Drama                 [Comedy, Drama]  \n",
       "2601     Action,Adventure,Comedy     [Action, Adventure, Comedy]  \n",
       "2602       Comedy,Family,Romance       [Comedy, Family, Romance]  \n",
       "2603                      Comedy                        [Comedy]  \n",
       "2604  Adventure,Animation,Comedy  [Adventure, Animation, Comedy]  \n",
       "\n",
       "[2568 rows x 5 columns]"
      ]
     },
     "execution_count": 6,
     "metadata": {},
     "output_type": "execute_result"
    }
   ],
   "source": [
    "gross_df['split_genres'] = gross_df['genres'].str.split(',')\n",
    "gross_df = gross_df.dropna(subset = ['genres'])\n",
    "gross_df"
   ]
  },
  {
   "cell_type": "markdown",
   "metadata": {},
   "source": [
    "I discovered during my analysis that the `foreign_gross` column had strings, so I converted it into float values"
   ]
  },
  {
   "cell_type": "code",
   "execution_count": 7,
   "metadata": {},
   "outputs": [
    {
     "data": {
      "text/plain": [
       "str"
      ]
     },
     "execution_count": 7,
     "metadata": {},
     "output_type": "execute_result"
    }
   ],
   "source": [
    "type(gross_df['foreign_gross'].iloc[0])"
   ]
  },
  {
   "cell_type": "code",
   "execution_count": 8,
   "metadata": {},
   "outputs": [
    {
     "name": "stderr",
     "output_type": "stream",
     "text": [
      "<ipython-input-8-a0f91ea86bdb>:1: SettingWithCopyWarning: \n",
      "A value is trying to be set on a copy of a slice from a DataFrame.\n",
      "Try using .loc[row_indexer,col_indexer] = value instead\n",
      "\n",
      "See the caveats in the documentation: https://pandas.pydata.org/pandas-docs/stable/user_guide/indexing.html#returning-a-view-versus-a-copy\n",
      "  gross_df['foreign_gross'] = gross_df['foreign_gross'].str.replace(',','').astype(float)\n"
     ]
    }
   ],
   "source": [
    "gross_df['foreign_gross'] = gross_df['foreign_gross'].str.replace(',','').astype(float)"
   ]
  },
  {
   "cell_type": "code",
   "execution_count": 9,
   "metadata": {},
   "outputs": [
    {
     "data": {
      "text/html": [
       "<div>\n",
       "<style scoped>\n",
       "    .dataframe tbody tr th:only-of-type {\n",
       "        vertical-align: middle;\n",
       "    }\n",
       "\n",
       "    .dataframe tbody tr th {\n",
       "        vertical-align: top;\n",
       "    }\n",
       "\n",
       "    .dataframe thead th {\n",
       "        text-align: right;\n",
       "    }\n",
       "</style>\n",
       "<table border=\"1\" class=\"dataframe\">\n",
       "  <thead>\n",
       "    <tr style=\"text-align: right;\">\n",
       "      <th></th>\n",
       "      <th>movie</th>\n",
       "      <th>domestic_gross</th>\n",
       "      <th>foreign_gross</th>\n",
       "      <th>genres</th>\n",
       "      <th>split_genres</th>\n",
       "    </tr>\n",
       "  </thead>\n",
       "  <tbody>\n",
       "    <tr>\n",
       "      <th>0</th>\n",
       "      <td>'71</td>\n",
       "      <td>1300000.0</td>\n",
       "      <td>355000.0</td>\n",
       "      <td>Action,Drama,Thriller</td>\n",
       "      <td>Action</td>\n",
       "    </tr>\n",
       "    <tr>\n",
       "      <th>0</th>\n",
       "      <td>'71</td>\n",
       "      <td>1300000.0</td>\n",
       "      <td>355000.0</td>\n",
       "      <td>Action,Drama,Thriller</td>\n",
       "      <td>Drama</td>\n",
       "    </tr>\n",
       "    <tr>\n",
       "      <th>0</th>\n",
       "      <td>'71</td>\n",
       "      <td>1300000.0</td>\n",
       "      <td>355000.0</td>\n",
       "      <td>Action,Drama,Thriller</td>\n",
       "      <td>Thriller</td>\n",
       "    </tr>\n",
       "    <tr>\n",
       "      <th>1</th>\n",
       "      <td>1,000 Times Good Night</td>\n",
       "      <td>53900.0</td>\n",
       "      <td>NaN</td>\n",
       "      <td>Drama,War</td>\n",
       "      <td>Drama</td>\n",
       "    </tr>\n",
       "    <tr>\n",
       "      <th>1</th>\n",
       "      <td>1,000 Times Good Night</td>\n",
       "      <td>53900.0</td>\n",
       "      <td>NaN</td>\n",
       "      <td>Drama,War</td>\n",
       "      <td>War</td>\n",
       "    </tr>\n",
       "    <tr>\n",
       "      <th>...</th>\n",
       "      <td>...</td>\n",
       "      <td>...</td>\n",
       "      <td>...</td>\n",
       "      <td>...</td>\n",
       "      <td>...</td>\n",
       "    </tr>\n",
       "    <tr>\n",
       "      <th>2602</th>\n",
       "      <td>Zookeeper</td>\n",
       "      <td>80400000.0</td>\n",
       "      <td>89500000.0</td>\n",
       "      <td>Comedy,Family,Romance</td>\n",
       "      <td>Romance</td>\n",
       "    </tr>\n",
       "    <tr>\n",
       "      <th>2603</th>\n",
       "      <td>Zoolander 2</td>\n",
       "      <td>28800000.0</td>\n",
       "      <td>27900000.0</td>\n",
       "      <td>Comedy</td>\n",
       "      <td>Comedy</td>\n",
       "    </tr>\n",
       "    <tr>\n",
       "      <th>2604</th>\n",
       "      <td>Zootopia</td>\n",
       "      <td>341300000.0</td>\n",
       "      <td>682500000.0</td>\n",
       "      <td>Adventure,Animation,Comedy</td>\n",
       "      <td>Adventure</td>\n",
       "    </tr>\n",
       "    <tr>\n",
       "      <th>2604</th>\n",
       "      <td>Zootopia</td>\n",
       "      <td>341300000.0</td>\n",
       "      <td>682500000.0</td>\n",
       "      <td>Adventure,Animation,Comedy</td>\n",
       "      <td>Animation</td>\n",
       "    </tr>\n",
       "    <tr>\n",
       "      <th>2604</th>\n",
       "      <td>Zootopia</td>\n",
       "      <td>341300000.0</td>\n",
       "      <td>682500000.0</td>\n",
       "      <td>Adventure,Animation,Comedy</td>\n",
       "      <td>Comedy</td>\n",
       "    </tr>\n",
       "  </tbody>\n",
       "</table>\n",
       "<p>6103 rows × 5 columns</p>\n",
       "</div>"
      ],
      "text/plain": [
       "                       movie  domestic_gross  foreign_gross  \\\n",
       "0                        '71       1300000.0       355000.0   \n",
       "0                        '71       1300000.0       355000.0   \n",
       "0                        '71       1300000.0       355000.0   \n",
       "1     1,000 Times Good Night         53900.0            NaN   \n",
       "1     1,000 Times Good Night         53900.0            NaN   \n",
       "...                      ...             ...            ...   \n",
       "2602               Zookeeper      80400000.0     89500000.0   \n",
       "2603             Zoolander 2      28800000.0     27900000.0   \n",
       "2604                Zootopia     341300000.0    682500000.0   \n",
       "2604                Zootopia     341300000.0    682500000.0   \n",
       "2604                Zootopia     341300000.0    682500000.0   \n",
       "\n",
       "                          genres split_genres  \n",
       "0          Action,Drama,Thriller       Action  \n",
       "0          Action,Drama,Thriller        Drama  \n",
       "0          Action,Drama,Thriller     Thriller  \n",
       "1                      Drama,War        Drama  \n",
       "1                      Drama,War          War  \n",
       "...                          ...          ...  \n",
       "2602       Comedy,Family,Romance      Romance  \n",
       "2603                      Comedy       Comedy  \n",
       "2604  Adventure,Animation,Comedy    Adventure  \n",
       "2604  Adventure,Animation,Comedy    Animation  \n",
       "2604  Adventure,Animation,Comedy       Comedy  \n",
       "\n",
       "[6103 rows x 5 columns]"
      ]
     },
     "execution_count": 9,
     "metadata": {},
     "output_type": "execute_result"
    }
   ],
   "source": [
    "gross_df = gross_df.explode('split_genres')\n",
    "gross_df"
   ]
  },
  {
   "cell_type": "markdown",
   "metadata": {},
   "source": [
    "when splitting genres, be careful with economic data because I don't want to add up the duplicate values for each movie and then say \"this was the total budget for that movie\", etc"
   ]
  },
  {
   "cell_type": "markdown",
   "metadata": {},
   "source": [
    "Creating IMDB ratings data frame"
   ]
  },
  {
   "cell_type": "code",
   "execution_count": 24,
   "metadata": {},
   "outputs": [
    {
     "data": {
      "text/html": [
       "<div>\n",
       "<style scoped>\n",
       "    .dataframe tbody tr th:only-of-type {\n",
       "        vertical-align: middle;\n",
       "    }\n",
       "\n",
       "    .dataframe tbody tr th {\n",
       "        vertical-align: top;\n",
       "    }\n",
       "\n",
       "    .dataframe thead th {\n",
       "        text-align: right;\n",
       "    }\n",
       "</style>\n",
       "<table border=\"1\" class=\"dataframe\">\n",
       "  <thead>\n",
       "    <tr style=\"text-align: right;\">\n",
       "      <th></th>\n",
       "      <th>primary_title</th>\n",
       "      <th>averagerating</th>\n",
       "      <th>numvotes</th>\n",
       "      <th>genres</th>\n",
       "    </tr>\n",
       "  </thead>\n",
       "  <tbody>\n",
       "    <tr>\n",
       "      <th>0</th>\n",
       "      <td>Sunghursh</td>\n",
       "      <td>7.0</td>\n",
       "      <td>77</td>\n",
       "      <td>Action,Crime,Drama</td>\n",
       "    </tr>\n",
       "    <tr>\n",
       "      <th>1</th>\n",
       "      <td>One Day Before the Rainy Season</td>\n",
       "      <td>7.2</td>\n",
       "      <td>43</td>\n",
       "      <td>Biography,Drama</td>\n",
       "    </tr>\n",
       "    <tr>\n",
       "      <th>2</th>\n",
       "      <td>The Other Side of the Wind</td>\n",
       "      <td>6.9</td>\n",
       "      <td>4517</td>\n",
       "      <td>Drama</td>\n",
       "    </tr>\n",
       "    <tr>\n",
       "      <th>3</th>\n",
       "      <td>Sabse Bada Sukh</td>\n",
       "      <td>6.1</td>\n",
       "      <td>13</td>\n",
       "      <td>Comedy,Drama</td>\n",
       "    </tr>\n",
       "    <tr>\n",
       "      <th>4</th>\n",
       "      <td>The Wandering Soap Opera</td>\n",
       "      <td>6.5</td>\n",
       "      <td>119</td>\n",
       "      <td>Comedy,Drama,Fantasy</td>\n",
       "    </tr>\n",
       "    <tr>\n",
       "      <th>...</th>\n",
       "      <td>...</td>\n",
       "      <td>...</td>\n",
       "      <td>...</td>\n",
       "      <td>...</td>\n",
       "    </tr>\n",
       "    <tr>\n",
       "      <th>73851</th>\n",
       "      <td>Diabolik sono io</td>\n",
       "      <td>6.2</td>\n",
       "      <td>6</td>\n",
       "      <td>Documentary</td>\n",
       "    </tr>\n",
       "    <tr>\n",
       "      <th>73852</th>\n",
       "      <td>Sokagin Çocuklari</td>\n",
       "      <td>8.7</td>\n",
       "      <td>136</td>\n",
       "      <td>Drama,Family</td>\n",
       "    </tr>\n",
       "    <tr>\n",
       "      <th>73853</th>\n",
       "      <td>Albatross</td>\n",
       "      <td>8.5</td>\n",
       "      <td>8</td>\n",
       "      <td>Documentary</td>\n",
       "    </tr>\n",
       "    <tr>\n",
       "      <th>73854</th>\n",
       "      <td>La vida sense la Sara Amat</td>\n",
       "      <td>6.6</td>\n",
       "      <td>5</td>\n",
       "      <td>None</td>\n",
       "    </tr>\n",
       "    <tr>\n",
       "      <th>73855</th>\n",
       "      <td>Drømmeland</td>\n",
       "      <td>6.5</td>\n",
       "      <td>11</td>\n",
       "      <td>Documentary</td>\n",
       "    </tr>\n",
       "  </tbody>\n",
       "</table>\n",
       "<p>73856 rows × 4 columns</p>\n",
       "</div>"
      ],
      "text/plain": [
       "                         primary_title  averagerating  numvotes  \\\n",
       "0                            Sunghursh            7.0        77   \n",
       "1      One Day Before the Rainy Season            7.2        43   \n",
       "2           The Other Side of the Wind            6.9      4517   \n",
       "3                      Sabse Bada Sukh            6.1        13   \n",
       "4             The Wandering Soap Opera            6.5       119   \n",
       "...                                ...            ...       ...   \n",
       "73851                 Diabolik sono io            6.2         6   \n",
       "73852                Sokagin Çocuklari            8.7       136   \n",
       "73853                        Albatross            8.5         8   \n",
       "73854       La vida sense la Sara Amat            6.6         5   \n",
       "73855                       Drømmeland            6.5        11   \n",
       "\n",
       "                     genres  \n",
       "0        Action,Crime,Drama  \n",
       "1           Biography,Drama  \n",
       "2                     Drama  \n",
       "3              Comedy,Drama  \n",
       "4      Comedy,Drama,Fantasy  \n",
       "...                     ...  \n",
       "73851           Documentary  \n",
       "73852          Drama,Family  \n",
       "73853           Documentary  \n",
       "73854                  None  \n",
       "73855           Documentary  \n",
       "\n",
       "[73856 rows x 4 columns]"
      ]
     },
     "execution_count": 24,
     "metadata": {},
     "output_type": "execute_result"
    }
   ],
   "source": [
    "cur.execute(\"\"\"SELECT m.primary_title, r.averagerating, r.numvotes, m.genres\n",
    "               FROM imdb_title_basics m\n",
    "               JOIN imdb_title_ratings r\n",
    "               USING(tconst);\"\"\")\n",
    "ratings_df = pd.DataFrame(cur.fetchall())\n",
    "ratings_df.columns = [x[0] for x in cur.description]\n",
    "ratings_df"
   ]
  },
  {
   "cell_type": "markdown",
   "metadata": {},
   "source": [
    "Splitting genres for each movie"
   ]
  },
  {
   "cell_type": "code",
   "execution_count": 25,
   "metadata": {},
   "outputs": [
    {
     "data": {
      "text/html": [
       "<div>\n",
       "<style scoped>\n",
       "    .dataframe tbody tr th:only-of-type {\n",
       "        vertical-align: middle;\n",
       "    }\n",
       "\n",
       "    .dataframe tbody tr th {\n",
       "        vertical-align: top;\n",
       "    }\n",
       "\n",
       "    .dataframe thead th {\n",
       "        text-align: right;\n",
       "    }\n",
       "</style>\n",
       "<table border=\"1\" class=\"dataframe\">\n",
       "  <thead>\n",
       "    <tr style=\"text-align: right;\">\n",
       "      <th></th>\n",
       "      <th>primary_title</th>\n",
       "      <th>averagerating</th>\n",
       "      <th>numvotes</th>\n",
       "      <th>genres</th>\n",
       "      <th>split_genres</th>\n",
       "    </tr>\n",
       "  </thead>\n",
       "  <tbody>\n",
       "    <tr>\n",
       "      <th>0</th>\n",
       "      <td>Sunghursh</td>\n",
       "      <td>7.0</td>\n",
       "      <td>77</td>\n",
       "      <td>Action,Crime,Drama</td>\n",
       "      <td>[Action, Crime, Drama]</td>\n",
       "    </tr>\n",
       "    <tr>\n",
       "      <th>1</th>\n",
       "      <td>One Day Before the Rainy Season</td>\n",
       "      <td>7.2</td>\n",
       "      <td>43</td>\n",
       "      <td>Biography,Drama</td>\n",
       "      <td>[Biography, Drama]</td>\n",
       "    </tr>\n",
       "    <tr>\n",
       "      <th>2</th>\n",
       "      <td>The Other Side of the Wind</td>\n",
       "      <td>6.9</td>\n",
       "      <td>4517</td>\n",
       "      <td>Drama</td>\n",
       "      <td>[Drama]</td>\n",
       "    </tr>\n",
       "    <tr>\n",
       "      <th>3</th>\n",
       "      <td>Sabse Bada Sukh</td>\n",
       "      <td>6.1</td>\n",
       "      <td>13</td>\n",
       "      <td>Comedy,Drama</td>\n",
       "      <td>[Comedy, Drama]</td>\n",
       "    </tr>\n",
       "    <tr>\n",
       "      <th>4</th>\n",
       "      <td>The Wandering Soap Opera</td>\n",
       "      <td>6.5</td>\n",
       "      <td>119</td>\n",
       "      <td>Comedy,Drama,Fantasy</td>\n",
       "      <td>[Comedy, Drama, Fantasy]</td>\n",
       "    </tr>\n",
       "    <tr>\n",
       "      <th>...</th>\n",
       "      <td>...</td>\n",
       "      <td>...</td>\n",
       "      <td>...</td>\n",
       "      <td>...</td>\n",
       "      <td>...</td>\n",
       "    </tr>\n",
       "    <tr>\n",
       "      <th>73851</th>\n",
       "      <td>Diabolik sono io</td>\n",
       "      <td>6.2</td>\n",
       "      <td>6</td>\n",
       "      <td>Documentary</td>\n",
       "      <td>[Documentary]</td>\n",
       "    </tr>\n",
       "    <tr>\n",
       "      <th>73852</th>\n",
       "      <td>Sokagin Çocuklari</td>\n",
       "      <td>8.7</td>\n",
       "      <td>136</td>\n",
       "      <td>Drama,Family</td>\n",
       "      <td>[Drama, Family]</td>\n",
       "    </tr>\n",
       "    <tr>\n",
       "      <th>73853</th>\n",
       "      <td>Albatross</td>\n",
       "      <td>8.5</td>\n",
       "      <td>8</td>\n",
       "      <td>Documentary</td>\n",
       "      <td>[Documentary]</td>\n",
       "    </tr>\n",
       "    <tr>\n",
       "      <th>73854</th>\n",
       "      <td>La vida sense la Sara Amat</td>\n",
       "      <td>6.6</td>\n",
       "      <td>5</td>\n",
       "      <td>None</td>\n",
       "      <td>None</td>\n",
       "    </tr>\n",
       "    <tr>\n",
       "      <th>73855</th>\n",
       "      <td>Drømmeland</td>\n",
       "      <td>6.5</td>\n",
       "      <td>11</td>\n",
       "      <td>Documentary</td>\n",
       "      <td>[Documentary]</td>\n",
       "    </tr>\n",
       "  </tbody>\n",
       "</table>\n",
       "<p>73856 rows × 5 columns</p>\n",
       "</div>"
      ],
      "text/plain": [
       "                         primary_title  averagerating  numvotes  \\\n",
       "0                            Sunghursh            7.0        77   \n",
       "1      One Day Before the Rainy Season            7.2        43   \n",
       "2           The Other Side of the Wind            6.9      4517   \n",
       "3                      Sabse Bada Sukh            6.1        13   \n",
       "4             The Wandering Soap Opera            6.5       119   \n",
       "...                                ...            ...       ...   \n",
       "73851                 Diabolik sono io            6.2         6   \n",
       "73852                Sokagin Çocuklari            8.7       136   \n",
       "73853                        Albatross            8.5         8   \n",
       "73854       La vida sense la Sara Amat            6.6         5   \n",
       "73855                       Drømmeland            6.5        11   \n",
       "\n",
       "                     genres              split_genres  \n",
       "0        Action,Crime,Drama    [Action, Crime, Drama]  \n",
       "1           Biography,Drama        [Biography, Drama]  \n",
       "2                     Drama                   [Drama]  \n",
       "3              Comedy,Drama           [Comedy, Drama]  \n",
       "4      Comedy,Drama,Fantasy  [Comedy, Drama, Fantasy]  \n",
       "...                     ...                       ...  \n",
       "73851           Documentary             [Documentary]  \n",
       "73852          Drama,Family           [Drama, Family]  \n",
       "73853           Documentary             [Documentary]  \n",
       "73854                  None                      None  \n",
       "73855           Documentary             [Documentary]  \n",
       "\n",
       "[73856 rows x 5 columns]"
      ]
     },
     "execution_count": 25,
     "metadata": {},
     "output_type": "execute_result"
    }
   ],
   "source": [
    "ratings_df['split_genres'] = ratings_df['genres'].str.split(',')\n",
    "ratings_df"
   ]
  },
  {
   "cell_type": "code",
   "execution_count": 26,
   "metadata": {},
   "outputs": [],
   "source": [
    "ratings_df = ratings_df.dropna(subset = ['genres'])"
   ]
  },
  {
   "cell_type": "code",
   "execution_count": 27,
   "metadata": {
    "scrolled": true
   },
   "outputs": [
    {
     "data": {
      "text/html": [
       "<div>\n",
       "<style scoped>\n",
       "    .dataframe tbody tr th:only-of-type {\n",
       "        vertical-align: middle;\n",
       "    }\n",
       "\n",
       "    .dataframe tbody tr th {\n",
       "        vertical-align: top;\n",
       "    }\n",
       "\n",
       "    .dataframe thead th {\n",
       "        text-align: right;\n",
       "    }\n",
       "</style>\n",
       "<table border=\"1\" class=\"dataframe\">\n",
       "  <thead>\n",
       "    <tr style=\"text-align: right;\">\n",
       "      <th></th>\n",
       "      <th>primary_title</th>\n",
       "      <th>averagerating</th>\n",
       "      <th>numvotes</th>\n",
       "      <th>genres</th>\n",
       "      <th>split_genres</th>\n",
       "    </tr>\n",
       "  </thead>\n",
       "  <tbody>\n",
       "    <tr>\n",
       "      <th>0</th>\n",
       "      <td>Sunghursh</td>\n",
       "      <td>7.0</td>\n",
       "      <td>77</td>\n",
       "      <td>Action,Crime,Drama</td>\n",
       "      <td>Action</td>\n",
       "    </tr>\n",
       "    <tr>\n",
       "      <th>0</th>\n",
       "      <td>Sunghursh</td>\n",
       "      <td>7.0</td>\n",
       "      <td>77</td>\n",
       "      <td>Action,Crime,Drama</td>\n",
       "      <td>Crime</td>\n",
       "    </tr>\n",
       "    <tr>\n",
       "      <th>0</th>\n",
       "      <td>Sunghursh</td>\n",
       "      <td>7.0</td>\n",
       "      <td>77</td>\n",
       "      <td>Action,Crime,Drama</td>\n",
       "      <td>Drama</td>\n",
       "    </tr>\n",
       "    <tr>\n",
       "      <th>1</th>\n",
       "      <td>One Day Before the Rainy Season</td>\n",
       "      <td>7.2</td>\n",
       "      <td>43</td>\n",
       "      <td>Biography,Drama</td>\n",
       "      <td>Biography</td>\n",
       "    </tr>\n",
       "    <tr>\n",
       "      <th>1</th>\n",
       "      <td>One Day Before the Rainy Season</td>\n",
       "      <td>7.2</td>\n",
       "      <td>43</td>\n",
       "      <td>Biography,Drama</td>\n",
       "      <td>Drama</td>\n",
       "    </tr>\n",
       "    <tr>\n",
       "      <th>...</th>\n",
       "      <td>...</td>\n",
       "      <td>...</td>\n",
       "      <td>...</td>\n",
       "      <td>...</td>\n",
       "      <td>...</td>\n",
       "    </tr>\n",
       "    <tr>\n",
       "      <th>73851</th>\n",
       "      <td>Diabolik sono io</td>\n",
       "      <td>6.2</td>\n",
       "      <td>6</td>\n",
       "      <td>Documentary</td>\n",
       "      <td>Documentary</td>\n",
       "    </tr>\n",
       "    <tr>\n",
       "      <th>73852</th>\n",
       "      <td>Sokagin Çocuklari</td>\n",
       "      <td>8.7</td>\n",
       "      <td>136</td>\n",
       "      <td>Drama,Family</td>\n",
       "      <td>Drama</td>\n",
       "    </tr>\n",
       "    <tr>\n",
       "      <th>73852</th>\n",
       "      <td>Sokagin Çocuklari</td>\n",
       "      <td>8.7</td>\n",
       "      <td>136</td>\n",
       "      <td>Drama,Family</td>\n",
       "      <td>Family</td>\n",
       "    </tr>\n",
       "    <tr>\n",
       "      <th>73853</th>\n",
       "      <td>Albatross</td>\n",
       "      <td>8.5</td>\n",
       "      <td>8</td>\n",
       "      <td>Documentary</td>\n",
       "      <td>Documentary</td>\n",
       "    </tr>\n",
       "    <tr>\n",
       "      <th>73855</th>\n",
       "      <td>Drømmeland</td>\n",
       "      <td>6.5</td>\n",
       "      <td>11</td>\n",
       "      <td>Documentary</td>\n",
       "      <td>Documentary</td>\n",
       "    </tr>\n",
       "  </tbody>\n",
       "</table>\n",
       "<p>128490 rows × 5 columns</p>\n",
       "</div>"
      ],
      "text/plain": [
       "                         primary_title  averagerating  numvotes  \\\n",
       "0                            Sunghursh            7.0        77   \n",
       "0                            Sunghursh            7.0        77   \n",
       "0                            Sunghursh            7.0        77   \n",
       "1      One Day Before the Rainy Season            7.2        43   \n",
       "1      One Day Before the Rainy Season            7.2        43   \n",
       "...                                ...            ...       ...   \n",
       "73851                 Diabolik sono io            6.2         6   \n",
       "73852                Sokagin Çocuklari            8.7       136   \n",
       "73852                Sokagin Çocuklari            8.7       136   \n",
       "73853                        Albatross            8.5         8   \n",
       "73855                       Drømmeland            6.5        11   \n",
       "\n",
       "                   genres split_genres  \n",
       "0      Action,Crime,Drama       Action  \n",
       "0      Action,Crime,Drama        Crime  \n",
       "0      Action,Crime,Drama        Drama  \n",
       "1         Biography,Drama    Biography  \n",
       "1         Biography,Drama        Drama  \n",
       "...                   ...          ...  \n",
       "73851         Documentary  Documentary  \n",
       "73852        Drama,Family        Drama  \n",
       "73852        Drama,Family       Family  \n",
       "73853         Documentary  Documentary  \n",
       "73855         Documentary  Documentary  \n",
       "\n",
       "[128490 rows x 5 columns]"
      ]
     },
     "execution_count": 27,
     "metadata": {},
     "output_type": "execute_result"
    }
   ],
   "source": [
    "ratings_df = ratings_df.explode('split_genres')\n",
    "ratings_df"
   ]
  },
  {
   "cell_type": "markdown",
   "metadata": {},
   "source": [
    "I also wanted to observe common combinations of movie genres, so I filtered out movie genres with less than 500 movie under those genres and created a new data frame for the filtered movie list"
   ]
  },
  {
   "cell_type": "code",
   "execution_count": 35,
   "metadata": {
    "scrolled": true
   },
   "outputs": [
    {
     "data": {
      "text/html": [
       "<div>\n",
       "<style scoped>\n",
       "    .dataframe tbody tr th:only-of-type {\n",
       "        vertical-align: middle;\n",
       "    }\n",
       "\n",
       "    .dataframe tbody tr th {\n",
       "        vertical-align: top;\n",
       "    }\n",
       "\n",
       "    .dataframe thead th {\n",
       "        text-align: right;\n",
       "    }\n",
       "</style>\n",
       "<table border=\"1\" class=\"dataframe\">\n",
       "  <thead>\n",
       "    <tr style=\"text-align: right;\">\n",
       "      <th></th>\n",
       "      <th>averagerating</th>\n",
       "      <th>numvotes</th>\n",
       "    </tr>\n",
       "    <tr>\n",
       "      <th>genres</th>\n",
       "      <th></th>\n",
       "      <th></th>\n",
       "    </tr>\n",
       "  </thead>\n",
       "  <tbody>\n",
       "    <tr>\n",
       "      <th>Action</th>\n",
       "      <td>5.757712</td>\n",
       "      <td>336.115424</td>\n",
       "    </tr>\n",
       "    <tr>\n",
       "      <th>Action,Adventure,Animation</th>\n",
       "      <td>6.562874</td>\n",
       "      <td>21380.497006</td>\n",
       "    </tr>\n",
       "    <tr>\n",
       "      <th>Action,Adventure,Comedy</th>\n",
       "      <td>5.554032</td>\n",
       "      <td>29260.830645</td>\n",
       "    </tr>\n",
       "    <tr>\n",
       "      <th>Action,Adventure,Drama</th>\n",
       "      <td>5.691579</td>\n",
       "      <td>23607.594737</td>\n",
       "    </tr>\n",
       "    <tr>\n",
       "      <th>Action,Comedy</th>\n",
       "      <td>5.748936</td>\n",
       "      <td>3020.492401</td>\n",
       "    </tr>\n",
       "  </tbody>\n",
       "</table>\n",
       "</div>"
      ],
      "text/plain": [
       "                            averagerating      numvotes\n",
       "genres                                                 \n",
       "Action                           5.757712    336.115424\n",
       "Action,Adventure,Animation       6.562874  21380.497006\n",
       "Action,Adventure,Comedy          5.554032  29260.830645\n",
       "Action,Adventure,Drama           5.691579  23607.594737\n",
       "Action,Comedy                    5.748936   3020.492401"
      ]
     },
     "execution_count": 35,
     "metadata": {},
     "output_type": "execute_result"
    }
   ],
   "source": [
    "x_df = ratings_df.groupby('genres').count().iloc[:,0]\n",
    "x2_df = x_df[x_df >= 500].index\n",
    "combined_ratings_df = ratings_df[ratings_df.genres.isin(x2_df)]\n",
    "combined_ratings_df.groupby('genres').mean().head()"
   ]
  },
  {
   "cell_type": "markdown",
   "metadata": {},
   "source": [
    "Creating data frame for Rotten Tomatoes data"
   ]
  },
  {
   "cell_type": "code",
   "execution_count": 36,
   "metadata": {},
   "outputs": [
    {
     "data": {
      "text/html": [
       "<div>\n",
       "<style scoped>\n",
       "    .dataframe tbody tr th:only-of-type {\n",
       "        vertical-align: middle;\n",
       "    }\n",
       "\n",
       "    .dataframe tbody tr th {\n",
       "        vertical-align: top;\n",
       "    }\n",
       "\n",
       "    .dataframe thead th {\n",
       "        text-align: right;\n",
       "    }\n",
       "</style>\n",
       "<table border=\"1\" class=\"dataframe\">\n",
       "  <thead>\n",
       "    <tr style=\"text-align: right;\">\n",
       "      <th></th>\n",
       "      <th>movie_title</th>\n",
       "      <th>genres</th>\n",
       "      <th>tomatometer_status</th>\n",
       "      <th>tomatometer_rating</th>\n",
       "      <th>tomatometer_count</th>\n",
       "      <th>audience_status</th>\n",
       "      <th>audience_rating</th>\n",
       "      <th>audience_count</th>\n",
       "    </tr>\n",
       "  </thead>\n",
       "  <tbody>\n",
       "    <tr>\n",
       "      <th>0</th>\n",
       "      <td>Titanic</td>\n",
       "      <td>Drama, Romance</td>\n",
       "      <td>Certified-Fresh</td>\n",
       "      <td>89.0</td>\n",
       "      <td>192.0</td>\n",
       "      <td>Upright</td>\n",
       "      <td>69.0</td>\n",
       "      <td>35797635.0</td>\n",
       "    </tr>\n",
       "    <tr>\n",
       "      <th>1</th>\n",
       "      <td>The Lord of the Rings: The Return of the King</td>\n",
       "      <td>Action &amp; Adventure, Classics, Science Fiction ...</td>\n",
       "      <td>Certified-Fresh</td>\n",
       "      <td>93.0</td>\n",
       "      <td>275.0</td>\n",
       "      <td>Upright</td>\n",
       "      <td>86.0</td>\n",
       "      <td>34679773.0</td>\n",
       "    </tr>\n",
       "    <tr>\n",
       "      <th>2</th>\n",
       "      <td>Spider-Man</td>\n",
       "      <td>Action &amp; Adventure, Mystery &amp; Suspense, Scienc...</td>\n",
       "      <td>Certified-Fresh</td>\n",
       "      <td>90.0</td>\n",
       "      <td>245.0</td>\n",
       "      <td>Upright</td>\n",
       "      <td>67.0</td>\n",
       "      <td>34297354.0</td>\n",
       "    </tr>\n",
       "    <tr>\n",
       "      <th>3</th>\n",
       "      <td>Shrek 2</td>\n",
       "      <td>Animation, Comedy, Kids &amp; Family, Science Fict...</td>\n",
       "      <td>Certified-Fresh</td>\n",
       "      <td>89.0</td>\n",
       "      <td>236.0</td>\n",
       "      <td>Upright</td>\n",
       "      <td>69.0</td>\n",
       "      <td>34232524.0</td>\n",
       "    </tr>\n",
       "    <tr>\n",
       "      <th>4</th>\n",
       "      <td>Harry Potter and the Goblet of Fire</td>\n",
       "      <td>Action &amp; Adventure, Kids &amp; Family, Science Fic...</td>\n",
       "      <td>Certified-Fresh</td>\n",
       "      <td>88.0</td>\n",
       "      <td>255.0</td>\n",
       "      <td>Upright</td>\n",
       "      <td>74.0</td>\n",
       "      <td>34153607.0</td>\n",
       "    </tr>\n",
       "  </tbody>\n",
       "</table>\n",
       "</div>"
      ],
      "text/plain": [
       "                                     movie_title  \\\n",
       "0                                        Titanic   \n",
       "1  The Lord of the Rings: The Return of the King   \n",
       "2                                     Spider-Man   \n",
       "3                                        Shrek 2   \n",
       "4            Harry Potter and the Goblet of Fire   \n",
       "\n",
       "                                              genres tomatometer_status  \\\n",
       "0                                     Drama, Romance    Certified-Fresh   \n",
       "1  Action & Adventure, Classics, Science Fiction ...    Certified-Fresh   \n",
       "2  Action & Adventure, Mystery & Suspense, Scienc...    Certified-Fresh   \n",
       "3  Animation, Comedy, Kids & Family, Science Fict...    Certified-Fresh   \n",
       "4  Action & Adventure, Kids & Family, Science Fic...    Certified-Fresh   \n",
       "\n",
       "   tomatometer_rating  tomatometer_count audience_status  audience_rating  \\\n",
       "0                89.0              192.0         Upright             69.0   \n",
       "1                93.0              275.0         Upright             86.0   \n",
       "2                90.0              245.0         Upright             67.0   \n",
       "3                89.0              236.0         Upright             69.0   \n",
       "4                88.0              255.0         Upright             74.0   \n",
       "\n",
       "   audience_count  \n",
       "0      35797635.0  \n",
       "1      34679773.0  \n",
       "2      34297354.0  \n",
       "3      34232524.0  \n",
       "4      34153607.0  "
      ]
     },
     "execution_count": 36,
     "metadata": {},
     "output_type": "execute_result"
    }
   ],
   "source": [
    "cur.execute(\"\"\"SELECT movie_title, genres, tomatometer_status, tomatometer_rating, tomatometer_count, audience_status, audience_rating, audience_count\n",
    "               FROM rotten_tomatoes_movies\n",
    "               ORDER BY audience_count DESC\n",
    "               LIMIT 1000;\"\"\")\n",
    "rotten_tomatoes_df = pd.DataFrame(cur.fetchall())\n",
    "rotten_tomatoes_df.columns = [x[0] for x in cur.description]\n",
    "rotten_tomatoes_df.head(5)"
   ]
  },
  {
   "cell_type": "code",
   "execution_count": 37,
   "metadata": {},
   "outputs": [],
   "source": [
    "rotten_tomatoes_df['split_genres'] = rotten_tomatoes_df['genres'].str.split(',')\n",
    "rotten_tomatoes_df = rotten_tomatoes_df.explode('split_genres')"
   ]
  },
  {
   "cell_type": "markdown",
   "metadata": {},
   "source": [
    "## Data Visualization"
   ]
  },
  {
   "cell_type": "markdown",
   "metadata": {},
   "source": [
    "Average ratings by genre, for genre categories with more than 500 entries"
   ]
  },
  {
   "cell_type": "code",
   "execution_count": 53,
   "metadata": {},
   "outputs": [
    {
     "data": {
      "text/plain": [
       "(0.0, 10.0)"
      ]
     },
     "execution_count": 53,
     "metadata": {},
     "output_type": "execute_result"
    },
    {
     "data": {
      "image/png": "[encoded data removed]",
      "text/plain": [
       "<Figure size 1440x576 with 1 Axes>"
      ]
     },
     "metadata": {
      "needs_background": "light"
     },
     "output_type": "display_data"
    }
   ],
   "source": [
    "f, ax = plt.subplots(figsize=(20,8))\n",
    "ax = sns.barplot(x='genres', y='averagerating', data=combined_ratings_df,\n",
    "                order=x2_df)\n",
    "ax.set_xticklabels(ax.get_xticklabels(), rotation=90)\n",
    "ax.set_ylim(0,10)"
   ]
  },
  {
   "cell_type": "code",
   "execution_count": 43,
   "metadata": {},
   "outputs": [
    {
     "data": {
      "text/plain": [
       "(0.0, 10.0)"
      ]
     },
     "execution_count": 43,
     "metadata": {},
     "output_type": "execute_result"
    },
    {
     "data": {
      "image/png": "[encoded data removed]",
      "text/plain": [
       "<Figure size 720x576 with 1 Axes>"
      ]
     },
     "metadata": {
      "needs_background": "light"
     },
     "output_type": "display_data"
    }
   ],
   "source": [
    "f, ax = plt.subplots(figsize=(10,8))\n",
    "ax = sns.barplot(x='split_genres', y='averagerating', data=ratings_df)\n",
    "ax.set_xticklabels(ax.get_xticklabels(), rotation=90)\n",
    "ax.set_ylim(0,10)"
   ]
  },
  {
   "cell_type": "markdown",
   "metadata": {},
   "source": [
    "Audience vs critics ratings on Rotten Tomatoes"
   ]
  },
  {
   "cell_type": "code",
   "execution_count": 33,
   "metadata": {},
   "outputs": [
    {
     "data": {
      "text/plain": [
       "<AxesSubplot:xlabel='audience_rating', ylabel='tomatometer_rating'>"
      ]
     },
     "execution_count": 33,
     "metadata": {},
     "output_type": "execute_result"
    },
    {
     "data": {
      "image/png": "[encoded data removed]",
      "text/plain": [
       "<Figure size 720x576 with 1 Axes>"
      ]
     },
     "metadata": {
      "needs_background": "light"
     },
     "output_type": "display_data"
    }
   ],
   "source": [
    "f, ax = plt.subplots(figsize=(10,8))\n",
    "sns.scatterplot(x=\"audience_rating\", y=\"tomatometer_rating\", data=rotten_tomatoes_df)"
   ]
  },
  {
   "cell_type": "markdown",
   "metadata": {},
   "source": [
    "Comparing ratings per genre for critics vs audience ratings on Rotten Tomatoes"
   ]
  },
  {
   "cell_type": "code",
   "execution_count": 46,
   "metadata": {},
   "outputs": [
    {
     "data": {
      "text/plain": [
       "[Text(0, 0, 'Drama'),\n",
       " Text(1, 0, ' Romance'),\n",
       " Text(2, 0, 'Action & Adventure'),\n",
       " Text(3, 0, ' Classics'),\n",
       " Text(4, 0, ' Science Fiction & Fantasy'),\n",
       " Text(5, 0, ' Mystery & Suspense'),\n",
       " Text(6, 0, 'Animation'),\n",
       " Text(7, 0, ' Comedy'),\n",
       " Text(8, 0, ' Kids & Family'),\n",
       " Text(9, 0, ' Drama'),\n",
       " Text(10, 0, 'Kids & Family'),\n",
       " Text(11, 0, 'Comedy'),\n",
       " Text(12, 0, ' Sports & Fitness'),\n",
       " Text(13, 0, ' Horror'),\n",
       " Text(14, 0, 'Horror'),\n",
       " Text(15, 0, 'Mystery & Suspense'),\n",
       " Text(16, 0, ' Musical & Performing Arts'),\n",
       " Text(17, 0, ' Animation'),\n",
       " Text(18, 0, 'Cult Movies'),\n",
       " Text(19, 0, ' Special Interest'),\n",
       " Text(20, 0, 'Classics'),\n",
       " Text(21, 0, ' Documentary'),\n",
       " Text(22, 0, 'Art House & International'),\n",
       " Text(23, 0, ' Western'),\n",
       " Text(24, 0, ' Art House & International'),\n",
       " Text(25, 0, ' Cult Movies'),\n",
       " Text(26, 0, 'Musical & Performing Arts'),\n",
       " Text(27, 0, 'Science Fiction & Fantasy'),\n",
       " Text(28, 0, 'Documentary')]"
      ]
     },
     "execution_count": 46,
     "metadata": {},
     "output_type": "execute_result"
    },
    {
     "data": {
      "image/png": "[encoded data removed]",
      "text/plain": [
       "<Figure size 720x576 with 1 Axes>"
      ]
     },
     "metadata": {
      "needs_background": "light"
     },
     "output_type": "display_data"
    }
   ],
   "source": [
    "f, ax = plt.subplots(figsize=(10,8))\n",
    "ax = sns.barplot(x='split_genres', y='tomatometer_rating', data=rotten_tomatoes_df)\n",
    "ax.set_xticklabels(ax.get_xticklabels(), rotation=90)"
   ]
  },
  {
   "cell_type": "markdown",
   "metadata": {},
   "source": [
    "something something gross"
   ]
  },
  {
   "cell_type": "code",
   "execution_count": 50,
   "metadata": {},
   "outputs": [
    {
     "data": {
      "text/plain": [
       "<seaborn.axisgrid.FacetGrid at 0x1bdd6b6fb50>"
      ]
     },
     "execution_count": 50,
     "metadata": {},
     "output_type": "execute_result"
    },
    {
     "data": {
      "image/png": "[encoded data removed]",
      "text/plain": [
       "<Figure size 720x576 with 1 Axes>"
      ]
     },
     "metadata": {
      "needs_background": "light"
     },
     "output_type": "display_data"
    },
    {
     "data": {
      "image/png": "[encoded data removed]",
      "text/plain": [
       "<Figure size 360x360 with 1 Axes>"
      ]
     },
     "metadata": {
      "needs_background": "light"
     },
     "output_type": "display_data"
    }
   ],
   "source": [
    "f, ax = plt.subplots(figsize=(10,8))\n",
    "ax = sns.catplot(x=\"split_genres\", y=\"domestic_gross\", data=gross_df, hue=\"split_genres\")\n",
    "ax.set_xticklabels(rotation=90)"
   ]
  },
  {
   "cell_type": "code",
   "execution_count": 22,
   "metadata": {},
   "outputs": [
    {
     "data": {
      "text/plain": [
       "<AxesSubplot:xlabel='split_genres'>"
      ]
     },
     "execution_count": 22,
     "metadata": {},
     "output_type": "execute_result"
    },
    {
     "data": {
      "image/png": "[encoded data removed]",
      "text/plain": [
       "<Figure size 1080x576 with 1 Axes>"
      ]
     },
     "metadata": {
      "needs_background": "light"
     },
     "output_type": "display_data"
    }
   ],
   "source": [
    "gross_df.groupby('split_genres').mean().plot(figsize=(15,8), kind='bar')"
   ]
  },
  {
   "cell_type": "code",
   "execution_count": 62,
   "metadata": {},
   "outputs": [
    {
     "data": {
      "text/plain": [
       "[Text(0, 0, 'Action'),\n",
       " Text(1, 0, 'Drama'),\n",
       " Text(2, 0, 'Thriller'),\n",
       " Text(3, 0, 'War'),\n",
       " Text(4, 0, 'Horror'),\n",
       " Text(5, 0, 'Mystery'),\n",
       " Text(6, 0, 'Comedy'),\n",
       " Text(7, 0, 'Romance'),\n",
       " Text(8, 0, 'History'),\n",
       " Text(9, 0, 'Biography'),\n",
       " Text(10, 0, 'Adventure'),\n",
       " Text(11, 0, 'Crime'),\n",
       " Text(12, 0, 'Documentary'),\n",
       " Text(13, 0, 'Music'),\n",
       " Text(14, 0, 'Fantasy'),\n",
       " Text(15, 0, 'Animation'),\n",
       " Text(16, 0, 'Western'),\n",
       " Text(17, 0, 'Family'),\n",
       " Text(18, 0, 'Sci-Fi'),\n",
       " Text(19, 0, 'Musical'),\n",
       " Text(20, 0, 'Sport'),\n",
       " Text(21, 0, 'News')]"
      ]
     },
     "execution_count": 62,
     "metadata": {},
     "output_type": "execute_result"
    },
    {
     "data": {
      "image/png": "[encoded data removed]",
      "text/plain": [
       "<Figure size 720x576 with 1 Axes>"
      ]
     },
     "metadata": {
      "needs_background": "light"
     },
     "output_type": "display_data"
    }
   ],
   "source": [
    "f, ax = plt.subplots(figsize=(10,8))\n",
    "ax = sns.barplot(x='split_genres', y='domestic_gross', data=gross_df)\n",
    "ax.set_xticklabels(ax.get_xticklabels(), rotation=90)"
   ]
  },
  {
   "cell_type": "code",
   "execution_count": 63,
   "metadata": {},
   "outputs": [
    {
     "data": {
      "text/plain": [
       "[Text(0, 0, 'Action'),\n",
       " Text(1, 0, 'Drama'),\n",
       " Text(2, 0, 'Thriller'),\n",
       " Text(3, 0, 'War'),\n",
       " Text(4, 0, 'Horror'),\n",
       " Text(5, 0, 'Mystery'),\n",
       " Text(6, 0, 'Comedy'),\n",
       " Text(7, 0, 'Romance'),\n",
       " Text(8, 0, 'History'),\n",
       " Text(9, 0, 'Biography'),\n",
       " Text(10, 0, 'Adventure'),\n",
       " Text(11, 0, 'Crime'),\n",
       " Text(12, 0, 'Documentary'),\n",
       " Text(13, 0, 'Music'),\n",
       " Text(14, 0, 'Fantasy'),\n",
       " Text(15, 0, 'Animation'),\n",
       " Text(16, 0, 'Western'),\n",
       " Text(17, 0, 'Family'),\n",
       " Text(18, 0, 'Sci-Fi'),\n",
       " Text(19, 0, 'Musical'),\n",
       " Text(20, 0, 'Sport'),\n",
       " Text(21, 0, 'News')]"
      ]
     },
     "execution_count": 63,
     "metadata": {},
     "output_type": "execute_result"
    },
    {
     "data": {
      "image/png": "[encoded data removed]",
      "text/plain": [
       "<Figure size 720x576 with 1 Axes>"
      ]
     },
     "metadata": {
      "needs_background": "light"
     },
     "output_type": "display_data"
    }
   ],
   "source": [
    "f, ax = plt.subplots(figsize=(10,8))\n",
    "ax = sns.barplot(x='split_genres', y='foreign_gross', data=gross_df)\n",
    "ax.set_xticklabels(ax.get_xticklabels(), rotation=90)"
   ]
  },
  {
   "cell_type": "code",
   "execution_count": null,
   "metadata": {},
   "outputs": [],
   "source": []
  }
 ],
 "metadata": {
  "kernelspec": {
   "display_name": "Python 3",
   "language": "python",
   "name": "python3"
  },
  "language_info": {
   "codemirror_mode": {
    "name": "ipython",
    "version": 3
   },
   "file_extension": ".py",
   "mimetype": "text/x-python",
   "name": "python",
   "nbconvert_exporter": "python",
   "pygments_lexer": "ipython3",
   "version": "3.8.5"
  }
 },
 "nbformat": 4,
 "nbformat_minor": 4
}
